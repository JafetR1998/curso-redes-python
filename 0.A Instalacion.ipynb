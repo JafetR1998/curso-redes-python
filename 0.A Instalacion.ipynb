{
 "metadata": {
  "kernelspec": {
   "display_name": "Python 2",
   "language": "python",
   "name": "python2"
  },
  "language_info": {
   "codemirror_mode": {
    "name": "ipython",
    "version": 2
   },
   "file_extension": ".py",
   "mimetype": "text/x-python",
   "name": "python",
   "nbconvert_exporter": "python",
   "pygments_lexer": "ipython2",
   "version": "2.7.11"
  },
  "name": "",
  "signature": "sha256:14c22aa1da26448290494d141ab3fb6dbd189f9f6c03e8d7e23c709f6fa09fc3"
 },
 "nbformat": 3,
 "nbformat_minor": 0,
 "worksheets": [
  {
   "cells": [
    {
     "cell_type": "heading",
     "level": 1,
     "metadata": {},
     "source": [
      "Instalaci\u00f3n"
     ]
    },
    {
     "cell_type": "heading",
     "level": 2,
     "metadata": {},
     "source": [
      "0.A Instrucciones de instalaci\u00f3n "
     ]
    },
    {
     "cell_type": "heading",
     "level": 3,
     "metadata": {},
     "source": [
      "0.A.1 Descarga del material del curso"
     ]
    },
    {
     "cell_type": "markdown",
     "metadata": {},
     "source": [
      "La estructura y algunas ideas del siguiente curso se tomaron de  [https://github.com/fbkarsdorp/twitter-workshop](https://github.com/fbkarsdorp/twitter-workshop), pero se incluye nuevo contenido en las primeras dos secciones y adem\u00e1s se agregan dos secciones extras.\n",
      "\n",
      "Para descargar el material del curso, por favor ve a la siguiente [liga](https://github.com/psuarezserrato/curso-redes-python)."
     ]
    },
    {
     "cell_type": "heading",
     "level": 3,
     "metadata": {},
     "source": [
      "0.A.2 Instalar Python3"
     ]
    },
    {
     "cell_type": "markdown",
     "metadata": {},
     "source": [
      "Python es un lenguaje de programaci\u00f3n que podemos encontrar en dos versiones: Python2 y Python3. Actualmente se encuentra incorporado nativamente en Linux y Mac Os, sin embargo podemos optar por instalar otra distribuci\u00f3n como _Anaconda_. En este curso utilizaremos Python en su versi\u00f3n 3,  trabajar con la distribuci\u00f3n nativa o con otra que instalemos no implica diferencia alguna para este curso. Si no sabemos c\u00f3mo comprobar la versi\u00f3n por _default_ en nuestro sistema o estamos utilizando Windows, podemos directamente descargar e instalar la distribuci\u00f3n de _Anaconda_ mediante el siguiente enlace:\n",
      "\n",
      "[Descarga Anaconda](https://www.continuum.io/downloads)"
     ]
    },
    {
     "cell_type": "heading",
     "level": 3,
     "metadata": {},
     "source": [
      "0.A.3 Correr el Notebook."
     ]
    },
    {
     "cell_type": "markdown",
     "metadata": {},
     "source": [
      "Una vez que est\u00e9 instalado Python 3, hacemos lo siguiente:\n",
      " * Usuarios Windows\n",
      "     * Escribir en el buscador de aplicaciones `'jupyter notebook'`.\n",
      " * Usuarios Linux\n",
      "     * Abrir una terminal y escribir `'ipython3 notebook'`. \n",
      " * Usuarios OS \n",
      "     * Abrir una terminal y escribir `'jupyter notebook'` o `'./anaconda/bin/jupyter-notebook'`.\n",
      "\n",
      "Esto va a correr jupyter notebook en tu navegador.  Busca la carperta del curso y da clic en notebook correspondiente, abre y navega en el material."
     ]
    },
    {
     "cell_type": "heading",
     "level": 3,
     "metadata": {},
     "source": [
      "0.A.2 Instalaci\u00f3n de los m\u00f3dulos de Pyhton"
     ]
    },
    {
     "cell_type": "markdown",
     "metadata": {},
     "source": [
      "Durante el curso necesitaremos los siguientes m\u00f3dulos de Python _[Tweepy](http://docs.tweepy.org/en/v3.5.0/), [Botometer](https://pypi.org/project/botometer/1.0/), [NertworkX](https://networkx.github.io/) y [Seaborn](https://seaborn.pydata.org/)_ desarrollados por terceros, instalaremos de manera manual los m\u00f3dulos Tweepy y BotOrNor, pues los m\u00f3dulos NertworkX y Seaborn ya vienen preinstalados con Python-Anaconda, el cual ya instalamos anteriormente.   "
     ]
    },
    {
     "cell_type": "heading",
     "level": 3,
     "metadata": {},
     "source": [
      "0.A.2.1 Instalar Tweepy"
     ]
    },
    {
     "cell_type": "markdown",
     "metadata": {},
     "source": [
      "El lenguaje de programaci\u00f3n de Python tiene predefinidas diversos comandos que nos ayudan a manipular toda clase de datos. Sin embargo, las distribuciones est\u00e1ndar de Python no cuentan inicialmente con los comandos necesarios para trabajar con Twitter, para esto existe el m\u00f3dulo Tweepy, el cual contiene todas las herramientas necesarias para comunicarte con Twitter. Para utilizar dicho paquete, procedemos a instalarlo mediante los siguientes pasos: \n",
      " * Ir a la siguiente direcci\u00f3n [https://github.com/tweepy/tweepy](https://github.com/tweepy/tweepy).\n",
      " * Dar click en _Clone or download_ (Bot\u00f3n verde) e inmediatamente dar click en _Download zip_.\n",
      " * Descomprimir la carpeta .\n",
      " * Abrimos la carpeta que acabamos de descomprimir.\n",
      " * Abrimos la ventana de comandos o terminal.\n",
      "     * Windows\n",
      "         * Presionamos _shift_ + _click derecho_.\n",
      "         * Seleccionamos _Abrir ventana de comandos aqu\u00ed_.\n",
      "     * Ubuntu y Mac OS X\n",
      "         * Abrimos la aplicaci\u00f3n _Terminal_ .\n",
      "         * Con la instrucci\u00f3n `cd` nos movemos al directorio donde se descomprimi\u00f3 la carpeta. \n",
      "\n",
      "Por ejemplo si descomprimimos en el Escritorio, el comando ser\u00eda `cd /home/TuUsuario/Desktop/tweepy-master/`.\n",
      " * Por \u00faltimo, ya habilitados los permisos de instalaci\u00f3n, escribimos:\n",
      "     * `python setup.py install` (Windows)\n",
      "     * `sudo python3 setup.py install` (Linux & Mac OS)\n",
      "\n",
      "**Nota:**(Usuarios Mac OS) \n",
      "En caso de que lo anterior no funcione, deben hacer lo siguiente:\n",
      " * Abrir una terminal y escribir `python`, para verificar cual es la distribuci\u00f3n por default de Python.  \n",
      " * Si la distribuci\u00f3n por defaulf no es anaconda, hay que buscar la carpeta donde se instal\u00f3 anaconda, es decir, hay que buscar la carpeta donde se instal\u00f3 anaconda.\n",
      " * Escribimos la ruta donde se encuentra python3 en anaconda por ejemplo, si se encuentra en `/anaconda3/bin/python3`\n",
      " * Escribimos \n",
      "     * `sudo /anaconda3/bin/python3 setup.py install`\n",
      " \n",
      "Con todo lo anterior ya tenemos instalado en paquete Tweepy (versi\u00f3n m\u00e1s reciente) en nuestra computadora. Hay otra manera de instalar el paquete Tweepy (pero cabe la posibilidad de que no se instale la versi\u00f3n m\u00e1s reciente), para esto: \n",
      " * Abrimos \n",
      "     * Ventanda de comandos (Windows)  \n",
      "     * Terminal (Linux o Mac OS)\n",
      " * Escribimos \n",
      "     * `!pip install tweepy`\n",
      "     \n",
      "**Nota**:Los pasos realizados anteriormente s\u00f3lo se cumplen para _Ubuntu_, en caso de contar con una distribucion de Linux distinta, deber\u00e1 hacerdo acorde a su distribucion de Linux.\n",
      "\n",
      "Ahora probemos que la instalaci\u00f3n de tweepy se realizo correctamente corriendo el siguiente c\u00f3digo:"
     ]
    },
    {
     "cell_type": "code",
     "collapsed": true,
     "input": [
      "import tweepy"
     ],
     "language": "python",
     "metadata": {},
     "outputs": [],
     "prompt_number": null
    },
    {
     "cell_type": "heading",
     "level": 3,
     "metadata": {},
     "source": [
      "0.A.2.2 Instalar Botometer"
     ]
    },
    {
     "cell_type": "markdown",
     "metadata": {},
     "source": [
      "El m\u00f3dulo `Botometer` es utilizado para poder determinar cuando una cuenta de Twitter puede ser humano o bot, \u00e9ste fue desarrollado por la Universidad de Indiana.  \n",
      "\n",
      "Para instalarlo realizamos los siguientes pasos:\n",
      " * Ir a la siguiente direcci\u00f3n [https://github.com/IUNetSci/botometer-python](https://github.com/IUNetSci/botometer-python).\n",
      " * Dar click en _Clone or download_ (Bot\u00f3n verde) e inmediatamente dar click en _Download zip_.\n",
      " * Descomprimir la carpeta .\n",
      " * Abrimos la carpeta que acabamos de descomprimir.\n",
      " * Abrimos la ventana de comandos o terminal.\n",
      "     * Windows\n",
      "         * Presionamos _shift_ + _click derecho_.\n",
      "         * Seleccionamos _Abrir ventana de comandos aqu\u00ed_.\n",
      "     * Ubuntu y Mac OS X\n",
      "         * Abrimos la aplicaci\u00f3n _Terminal_ .\n",
      "         * Con la instrucci\u00f3n `cd` nos movemos al directorio donde se descomprimi\u00f3 la carpeta. \n",
      "\n",
      "Por ejemplo si descomprimimos en el Escritorio, el comando ser\u00eda `cd /home/TuUsuario/Desktop/botometer-python-master/`.\n",
      " * Por \u00faltimo, ya habilitados los permisos de instalaci\u00f3n, escribimos:\n",
      "     * `python setup.py install` (Windows)\n",
      "     * `sudo python3 setup.py install` (Linux & Mac OS)\n",
      "     * Usuarios Mac OS, en caso de obtener errores regresar a la nota escrita en la instalaci\u00f3n de tweepy.\n",
      "\n",
      "Ahora probemos que la instalaci\u00f3n de botometer se realizo correctamente corriendo el siguiente c\u00f3digo:\n"
     ]
    },
    {
     "cell_type": "code",
     "collapsed": true,
     "input": [
      "import botometer"
     ],
     "language": "python",
     "metadata": {},
     "outputs": [],
     "prompt_number": null
    },
    {
     "cell_type": "heading",
     "level": 3,
     "metadata": {},
     "source": [
      "0.A.2.2 Instalar Networkx"
     ]
    },
    {
     "cell_type": "markdown",
     "metadata": {},
     "source": [
      "En Python el m\u00f3dulo que puede emplearse para trabajar con gr\u00e1ficas es **networkx**. Para instalarlo, los pasos son similares a los usados para instalar _tweepy_ y _botometer_. Para instalar _networkx_ seguimos los siguientes pasos:\n",
      "\n",
      " * Ir a la siguiente direcci\u00f3n [https://github.com/networkx/networkx/](https://github.com/networkx/networkx/).\n",
      " * Dar click en _Clone or download_ (Bot\u00f3n verde) e inmediatamente dar click en _Download zip_.\n",
      " * Descomprimir la carpeta .\n",
      " * Abrimos la carpeta que acabamos de descomprimir.\n",
      " * Abrimos la ventana de comandos o terminal.\n",
      "     * Windows\n",
      "         * Presionamos _shift_ + _click derecho_.\n",
      "         * Seleccionamos _Abrir ventana de comandos aqu\u00ed_.\n",
      "     * Ubuntu y Mac OS X\n",
      "         * Abrimos la aplicaci\u00f3n _Terminal_ .\n",
      "         * Con la instrucci\u00f3n `cd` nos movemos al directorio donde se descomprimi\u00f3 la carpeta. \n",
      "\n",
      "Por ejemplo si descomprimimos en el Escritorio, el comando ser\u00eda `cd /home/TuUsuario/Desktop/networkx-master/`.\n",
      " * Por \u00faltimo, ya habilitados los permisos de instalaci\u00f3n, escribimos:\n",
      "     * python setup.py install (Windows)\n",
      "     * `sudo python3 setup.py install` (Linux & Mac OS)\n",
      "     * Usuarios Mac OS, en caso de obtener errores regresar a la nota escrita en la instalaci\u00f3n de tweepy.\n",
      "\n",
      "Probemos que lo instalamos correctamente corriendo el siguiente c\u00f3digo:"
     ]
    },
    {
     "cell_type": "code",
     "collapsed": true,
     "input": [
      "import networkx as nx"
     ],
     "language": "python",
     "metadata": {},
     "outputs": [],
     "prompt_number": null
    },
    {
     "cell_type": "heading",
     "level": 3,
     "metadata": {},
     "source": [
      "0.A.2.4 Instalar Unidecode."
     ]
    },
    {
     "cell_type": "markdown",
     "metadata": {},
     "source": [
      "Este m\u00f3dulo es necesario para poder traducir exitosamente todos los caracteres utilizados en el idioma espa\u00f1ol (como por ejemplo la letra \u00f1, vocales acentuadas, etc) a c\u00f3digo de caracteres _ASCII_ y facilitar el an\u00e1lisis de texto.\n",
      "\n",
      "Para instalarlo realizamos los siguientes pasos: \n",
      "* Ir a la siguiente direcci\u00f3n [https://github.com/iki/unidecode](https://github.com/iki/unidecode).\n",
      " * Dar click en _Clone or download_ (Bot\u00f3n verde) e inmediatamente dar click en _Download zip_.\n",
      " * Descomprimir la carpeta .\n",
      " * Abrimos la carpeta que acabamos de descomprimir.\n",
      " * Abrimos la ventana de comandos o terminal.\n",
      "     * Windows\n",
      "         * Presionamos _shift_ + _click derecho_.\n",
      "         * Seleccionamos _Abrir ventana de comandos aqu\u00ed_.\n",
      "     * Ubuntu y Mac OS X\n",
      "         * Abrimos la aplicaci\u00f3n _Terminal_ .\n",
      "         * Con la instrucci\u00f3n `cd` nos movemos al directorio donde se descomprimi\u00f3 la carpeta. \n",
      "\n",
      "Por ejemplo si descomprimimos en el Escritorio, el comando ser\u00eda `cd /home/TuUsuario/Desktop/unidecode-master/`.\n",
      " * Por \u00faltimo, ya habilitados los permisos de instalaci\u00f3n, escribimos:\n",
      "     * `python setup.py install` (Windows)\n",
      "     * `sudo python3 setup.py install` (Linux & Mac OS)\n",
      "     * Usuarios Mac OS, en caso de obtener errores regresar a la nota escrita en la instalaci\u00f3n de tweepy.\n",
      "     \n",
      "Probemos que lo instalamos correctamente corriendo el siguiente c\u00f3digo:\n"
     ]
    },
    {
     "cell_type": "code",
     "collapsed": true,
     "input": [
      "import unidecode"
     ],
     "language": "python",
     "metadata": {},
     "outputs": [],
     "prompt_number": null
    },
    {
     "cell_type": "heading",
     "level": 3,
     "metadata": {},
     "source": [
      "0.A.2.5 Instalar Seaborn."
     ]
    },
    {
     "cell_type": "markdown",
     "metadata": {},
     "source": [
      "Este m\u00f3dulo es necesario para poder tener una visualizacion de datos.\n",
      "\n",
      "Para instalarlo realizamos los siguientes pasos: \n",
      "* Ir a la siguiente direcci\u00f3n [https://github.com/mwaskom/seaborn](https://github.com/mwaskom/seaborn).\n",
      " * Dar click en _Clone or download_ (Bot\u00f3n verde) e inmediatamente dar click en _Download zip_.\n",
      " * Descomprimir la carpeta .\n",
      " * Abrimos la carpeta que acabamos de descomprimir.\n",
      " * Abrimos la ventana de comandos o terminal.\n",
      "     * Windows\n",
      "         * Presionamos _shift_ + _click derecho_.\n",
      "         * Seleccionamos _Abrir ventana de comandos aqu\u00ed_.\n",
      "     * Ubuntu y Mac OS X\n",
      "         * Abrimos la aplicaci\u00f3n _Terminal_ .\n",
      "         * Con la instrucci\u00f3n `cd` nos movemos al directorio donde se descomprimi\u00f3 la carpeta. \n",
      "\n",
      "Por ejemplo si descomprimimos en el Escritorio, el comando ser\u00eda `cd /home/TuUsuario/Desktop/seaborn-master/`.\n",
      " * Por \u00faltimo, ya habilitados los permisos de instalaci\u00f3n, escribimos:\n",
      "     * `python setup.py install` (Windows)\n",
      "     * `sudo python3 setup.py install` (Linux & Mac OS)\n",
      "     * Usuarios Mac OS, en caso de obtener errores regresar a la nota escrita en la instalaci\u00f3n de tweepy.\n",
      "     \n",
      "Probemos que lo instalamos correctamente corriendo el siguiente c\u00f3digo:\n"
     ]
    },
    {
     "cell_type": "code",
     "collapsed": true,
     "input": [
      "import seaborn"
     ],
     "language": "python",
     "metadata": {},
     "outputs": [],
     "prompt_number": null
    },
    {
     "cell_type": "heading",
     "level": 3,
     "metadata": {},
     "source": [
      "0.A.2.6 Instalar Pandas."
     ]
    },
    {
     "cell_type": "markdown",
     "metadata": {},
     "source": [
      "Este m\u00f3dulo es necesario para poder tener una visualizacion de datos.\n",
      "\n",
      "Para instalarlo realizamos los siguientes pasos: \n",
      "* Ir a la siguiente direcci\u00f3n [https://github.com/pandas-dev/pandas](https://github.com/pandas-dev/pandas).\n",
      " * Dar click en _Clone or download_ (Bot\u00f3n verde) e inmediatamente dar click en _Download zip_.\n",
      " * Descomprimir la carpeta .\n",
      " * Abrimos la carpeta que acabamos de descomprimir.\n",
      " * Abrimos la ventana de comandos o terminal.\n",
      "     * Windows\n",
      "         * Presionamos _shift_ + _click derecho_.\n",
      "         * Seleccionamos _Abrir ventana de comandos aqu\u00ed_.\n",
      "     * Ubuntu y Mac OS X\n",
      "         * Abrimos la aplicaci\u00f3n _Terminal_ .\n",
      "         * Con la instrucci\u00f3n `cd` nos movemos al directorio donde se descomprimi\u00f3 la carpeta. \n",
      "\n",
      "Por ejemplo si descomprimimos en el Escritorio, el comando ser\u00eda `cd /home/TuUsuario/Desktop/pandas-master/`.\n",
      " * Por \u00faltimo, ya habilitados los permisos de instalaci\u00f3n, escribimos:\n",
      "     * `python setup.py install` (Windows)\n",
      "     * `sudo python3 setup.py install` (Linux & Mac OS)\n",
      "     * Usuarios Mac OS, en caso de obtener errores regresar a la nota escrita en la instalaci\u00f3n de tweepy.\n",
      "     \n",
      "Probemos que lo instalamos correctamente corriendo el siguiente c\u00f3digo:\n"
     ]
    },
    {
     "cell_type": "code",
     "collapsed": true,
     "input": [
      "import pandas"
     ],
     "language": "python",
     "metadata": {},
     "outputs": [],
     "prompt_number": null
    }
   ],
   "metadata": {}
  }
 ]
}