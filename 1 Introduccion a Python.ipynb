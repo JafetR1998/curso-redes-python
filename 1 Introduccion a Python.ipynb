{
 "metadata": {
  "kernelspec": {
   "display_name": "Python 3",
   "language": "python",
   "name": "python3"
  },
  "language_info": {
   "codemirror_mode": {
    "name": "ipython",
    "version": 3
   },
   "file_extension": ".py",
   "mimetype": "text/x-python",
   "name": "python",
   "nbconvert_exporter": "python",
   "pygments_lexer": "ipython3",
   "version": "3.6.0"
  },
  "name": "",
  "signature": "sha256:1c7b9d3ec964a8033c4c468efda7d6a02b3d2735cabbbfd66a87cdcb88393e5e"
 },
 "nbformat": 3,
 "nbformat_minor": 0,
 "worksheets": [
  {
   "cells": [
    {
     "cell_type": "heading",
     "level": 2,
     "metadata": {},
     "source": [
      "1.  Introducci\u00f3n a Python"
     ]
    },
    {
     "cell_type": "markdown",
     "metadata": {},
     "source": [
      "Python es un lenguaje de programaci\u00f3n que nos permite dictar instrucciones a una computadora. Este lenguaje se ha vuelto muy popular en los \u00faltimos a\u00f1os debido a su facilidad de sintaxis. Por ejemplo, la instrucci\u00f3n `print( )` te permite desplegar informaci\u00f3n de la m\u00e1quina:"
     ]
    },
    {
     "cell_type": "code",
     "collapsed": false,
     "input": [
      "print(1+1)"
     ],
     "language": "python",
     "metadata": {},
     "outputs": []
    },
    {
     "cell_type": "markdown",
     "metadata": {},
     "source": [
      "O simplemente repetir un mensaje:"
     ]
    },
    {
     "cell_type": "code",
     "collapsed": false,
     "input": [
      "print(\"Hola Mundo\")"
     ],
     "language": "python",
     "metadata": {},
     "outputs": []
    },
    {
     "cell_type": "markdown",
     "metadata": {},
     "source": [
      "La mejor forma de aprender a programar es haci\u00e9ndolo. Da click en cualquier bloque de c\u00f3digo de este curso, como el anterior, y preciona `ctrl + Enter` para correrlo. Vamos a comenzar escribiendo nuestro primer c\u00f3digo, para esto debemos tener presente que las instrucciones se organizan en bloques y se ejecutan de acuerdo al orden con el que fueron escritas. Revisa el siguiente c\u00f3digo, c\u00f3rrelo y trata de entender qu\u00e9 es lo que sucede."
     ]
    },
    {
     "cell_type": "code",
     "collapsed": false,
     "input": [
      "print('Twitter con')\n",
      "print('Python')"
     ],
     "language": "python",
     "metadata": {},
     "outputs": []
    },
    {
     "cell_type": "markdown",
     "metadata": {},
     "source": [
      "Otra manera de escribir esto, es almacenar esta informaci\u00f3n en _variables_."
     ]
    },
    {
     "cell_type": "code",
     "collapsed": false,
     "input": [
      "palabra1 = \"Twitter\"\n",
      "palabra2 = \"con\"\n",
      "palabra3 = \"Python\"\n",
      "print(palabra1,palabra2,palabra3)"
     ],
     "language": "python",
     "metadata": {},
     "outputs": []
    },
    {
     "cell_type": "markdown",
     "metadata": {},
     "source": [
      "Existen variables num\u00e9ricas (`integers`, `floats`, `booleans`) y variables de texto (`strings`). Cada tipo de variable tiene sus propias operaciones, por ejemplo, con el signo \"`+`\" se puede sumar variables de tipo num\u00e9rico como en el primer ejemplo, o concatenar cadenas de texto:"
     ]
    },
    {
     "cell_type": "code",
     "collapsed": false,
     "input": [
      "palabra1 = \"Twitter\"\n",
      "palabra2 = \"con\"\n",
      "palabra3 = \"Python\"\n",
      "palabra4 = palabra1 + \" \" + palabra2 + \" \" + palabra3\n",
      "print(palabra4)"
     ],
     "language": "python",
     "metadata": {},
     "outputs": []
    },
    {
     "cell_type": "markdown",
     "metadata": {},
     "source": [
      "Podemos pensar a las variables como un contenedor, en el cual almacenamos cualquier tipo de informaci\u00f3n. En el ejemplo anterior, almacenamos la cadena de texto `\"Twitter\"` en la variable `palabra1`. Aunque lucen similares, existe una diferencia importante entre cadenas de texto como `\"Twitter\"` y variables como `palabra1`. Como puedes observar, las cadenas de texto se escriben entre comillas, mientras que las variables no. Sin las comillas, Python considera ese texto como variables. Para hacer m\u00e1s clara esta diferencia, vamos a correr el siguiente c\u00f3digo:"
     ]
    },
    {
     "cell_type": "code",
     "collapsed": false,
     "input": [
      "Twitter = \"Python\"\n",
      "Python = \"Twitter\"\n",
      "print(Twitter + \" \" + palabra2 + \" \" + Python)"
     ],
     "language": "python",
     "metadata": {},
     "outputs": []
    },
    {
     "cell_type": "markdown",
     "metadata": {},
     "source": [
      "Los nombres de las variables los podemos escoger arbitrariamente. Sin embargo, es recomendable ponerle un nombre significativo para que nos sea m\u00e1s f\u00e1cil recordar lo que almacenamos en cada variable."
     ]
    },
    {
     "cell_type": "markdown",
     "metadata": {},
     "source": [
      "En general, llamamos 'valor' al contenido de una variable. Si lees un libro de programaci\u00f3n, las personas por lo general hablan de almacenar (o asignar) valores a las variables. Observa el siguiente bloque de c\u00f3digo."
     ]
    },
    {
     "cell_type": "code",
     "collapsed": false,
     "input": [
      "numero = 1\n",
      "NUMERO = 100000000\n",
      "print(numero == NUMERO)"
     ],
     "language": "python",
     "metadata": {},
     "outputs": []
    },
    {
     "cell_type": "markdown",
     "metadata": {},
     "source": [
      "Notemos que Python distingue may\u00fasculas de min\u00fasculas, es decir, NUMERO  \u2260\u2260  numero."
     ]
    },
    {
     "cell_type": "markdown",
     "metadata": {},
     "source": [
      "**Ejercicio:** Prueba a\u00f1adiendo al final del c\u00f3digo una l\u00ednea que imprima la suma de `numero`  y `NUMERO`. Despu\u00e9s, asigna el resultado de esta suma a una nueva variable. Hazlo en la siguiente celda."
     ]
    },
    {
     "cell_type": "code",
     "collapsed": true,
     "input": [
      "#Elimina esto e inserta tu c\u00f3digo aqu\u00ed."
     ],
     "language": "python",
     "metadata": {},
     "outputs": []
    },
    {
     "cell_type": "markdown",
     "metadata": {},
     "source": [
      "Python permite agrupar variables de diferentes tipos en un solo objeto, a estos objetos se les llama _listas_, y se escriben entre par\u00e9ntesis cuadrados [ ]."
     ]
    },
    {
     "cell_type": "code",
     "collapsed": false,
     "input": [
      "lista=['a','b','ab',1,2,1.0]\n",
      "print(lista)"
     ],
     "language": "python",
     "metadata": {},
     "outputs": []
    },
    {
     "cell_type": "markdown",
     "metadata": {},
     "source": [
      "Es com\u00fan crear listas vac\u00edas para posteriormente agregar elementos a ella. Para crear una lista vac\u00eda simplemente no escribimos elementos:"
     ]
    },
    {
     "cell_type": "code",
     "collapsed": false,
     "input": [
      "lista2=[]\n",
      "print(lista2)"
     ],
     "language": "python",
     "metadata": {},
     "outputs": []
    },
    {
     "cell_type": "markdown",
     "metadata": {},
     "source": [
      "Agregamos elementos a una lista con la instrucci\u00f3n ``append``:"
     ]
    },
    {
     "cell_type": "code",
     "collapsed": false,
     "input": [
      "lista2=[]\n",
      "elemento='a'\n",
      "lista2.append(elemento)\n",
      "print(lista2)"
     ],
     "language": "python",
     "metadata": {},
     "outputs": []
    },
    {
     "cell_type": "markdown",
     "metadata": {},
     "source": [
      "Estos conceptos b\u00e1sicos de variables y valores son el coraz\u00f3n de la mayor\u00eda de los c\u00f3digos de computadora. Las variables tambi\u00e9n permiten almacenar informaci\u00f3n para reusar y manipular despu\u00e9s, primero necesitamos conocer las instrucciones que administran este flujo de informaci\u00f3n, \u00e9stas son conocidas como _estructuras de control_. "
     ]
    },
    {
     "cell_type": "heading",
     "level": 3,
     "metadata": {},
     "source": [
      "1.1 Estructuras de Control"
     ]
    },
    {
     "cell_type": "heading",
     "level": 4,
     "metadata": {},
     "source": [
      "1.1.1 Condicional (`if / elif / else`)"
     ]
    },
    {
     "cell_type": "markdown",
     "metadata": {},
     "source": [
      "Podemos condicionar la ejecuci\u00f3n de ciertas instrucciones dejando una espacio al comienzo de la l\u00ednea (_indentanci\u00f3n_)."
     ]
    },
    {
     "cell_type": "code",
     "collapsed": false,
     "input": [
      "a=1111\n",
      "if a>10:\n",
      "    print('Twitter con python')"
     ],
     "language": "python",
     "metadata": {},
     "outputs": []
    },
    {
     "cell_type": "markdown",
     "metadata": {},
     "source": [
      "Cuando necesitamos comprobar m\u00e1s de una condicion utilizamos `elif` tantas veces como sea necesario. Tambi\u00e9n, mediante un `else` podemos destinar la ejecucicon de instrucciones si no se satisface ninguna condicion impuesta\n",
      "\n",
      "**Ejercicio**: Completa el siguiente c\u00f3digo."
     ]
    },
    {
     "cell_type": "code",
     "collapsed": true,
     "input": [
      "a=  #Escribe un valor numerico para a\n",
      "if a<3:\n",
      "    print('menor a tres')\n",
      "elif a>3:\n",
      "    print('mayor a tres')\n",
      "else:\n",
      "    print('no es numero')"
     ],
     "language": "python",
     "metadata": {},
     "outputs": []
    },
    {
     "cell_type": "heading",
     "level": 4,
     "metadata": {},
     "source": [
      "1.1.2 Ciclo (`while`)"
     ]
    },
    {
     "cell_type": "markdown",
     "metadata": {},
     "source": [
      "Permite ejecutar un bloque de instrucciones _mientras_ se cumpla una condici\u00f3n. Las instrucciones que deseamos repetir deben estar identadas."
     ]
    },
    {
     "cell_type": "code",
     "collapsed": false,
     "input": [
      "contador=1\n",
      "while contador<5:\n",
      "    print(contador)\n",
      "    contador=contador+1"
     ],
     "language": "python",
     "metadata": {},
     "outputs": []
    },
    {
     "cell_type": "heading",
     "level": 4,
     "metadata": {},
     "source": [
      "1.1.3 Ciclo (`for`)"
     ]
    },
    {
     "cell_type": "markdown",
     "metadata": {},
     "source": [
      "Esta instrucci\u00f3n recorre los elementos en una lista, por cada uno de ellos, repite un bloque de instrucciones."
     ]
    },
    {
     "cell_type": "code",
     "collapsed": false,
     "input": [
      "lista=['a','b','c']\n",
      "for elemento in lista:\n",
      "    print(elemento)"
     ],
     "language": "python",
     "metadata": {},
     "outputs": []
    },
    {
     "cell_type": "heading",
     "level": 4,
     "metadata": {},
     "source": [
      "1.1.4 `try / except`"
     ]
    },
    {
     "cell_type": "markdown",
     "metadata": {},
     "source": [
      "Es probable que durante la ejecuci\u00f3n de nuestro c\u00f3digo, ocurran errores. Podemos condicionar que, si ocurre un error, se ejecuten otras instrucciones. Este par de estructuras tiene cierto parecido a la pareja condicional if / else. "
     ]
    },
    {
     "cell_type": "code",
     "collapsed": true,
     "input": [
      "variable1='A'\n",
      "print(variable1<3)"
     ],
     "language": "python",
     "metadata": {},
     "outputs": []
    },
    {
     "cell_type": "code",
     "collapsed": true,
     "input": [
      "variable1='A'\n",
      "try:\n",
      "    print(variable1<3)\n",
      "except:\n",
      "    print('no es un numero')"
     ],
     "language": "python",
     "metadata": {},
     "outputs": []
    },
    {
     "cell_type": "markdown",
     "metadata": {},
     "source": [
      "__ 1.1.5 Diccionarios__\n",
      "\n",
      "La estructura de diccionario nos permite almacenar diferentes tipos de variables es una misma estructura y acceder a ellas mediante \"etiquetas\". Los diccionarios se caracterizan en python por el uso de llaves $\\{\\,\\}$ para agrupar las variables contenidas.\n",
      "\n",
      "Como primer ejemplo pensemos en un directorio telef\u00f3nico, donde las etiquetas son los nombres de nuestros contactos y a trav\u00e9s de cada una de ellas se accede al n\u00famero telef\u00f3nico:"
     ]
    },
    {
     "cell_type": "code",
     "collapsed": false,
     "input": [
      "telefonos={'Juan': 555777,'Ana': 533233, 'Maria': 222345}"
     ],
     "language": "python",
     "metadata": {},
     "outputs": []
    },
    {
     "cell_type": "markdown",
     "metadata": {},
     "source": [
      "y para acceder al tel\u00e9fono especificamos el nombre del contacto entre par\u00e9ntesis cuadrados [ ]"
     ]
    },
    {
     "cell_type": "code",
     "collapsed": false,
     "input": [
      "print(telefonos['Ana'])"
     ],
     "language": "python",
     "metadata": {},
     "outputs": []
    },
    {
     "cell_type": "markdown",
     "metadata": {},
     "source": [
      "Un segundo ejemplo es utilizar diccionarios para agrupar la informaci\u00f3n de un usuario:"
     ]
    },
    {
     "cell_type": "code",
     "collapsed": false,
     "input": [
      "Juan={'nombre': 'Juan', 'edad':43,'email':'j_123@mail.com','telefono':555777,'nickname':'j123'}\n",
      "Ana={'nombre': 'Ana', 'edad':30,'email':'ann_@mail.com','telefono':533233,'nickname':'ana'}"
     ],
     "language": "python",
     "metadata": {},
     "outputs": []
    },
    {
     "cell_type": "markdown",
     "metadata": {},
     "source": [
      "y accedemos ala informaci\u00f3n de cada usuario:"
     ]
    },
    {
     "cell_type": "code",
     "collapsed": false,
     "input": [
      "print(Juan['email'])\n",
      "print(Ana['telefono'])"
     ],
     "language": "python",
     "metadata": {},
     "outputs": []
    },
    {
     "cell_type": "code",
     "collapsed": false,
     "input": [],
     "language": "python",
     "metadata": {},
     "outputs": []
    }
   ],
   "metadata": {}
  }
 ]
}
