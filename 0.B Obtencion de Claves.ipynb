{
 "metadata": {
  "name": "",
  "signature": "sha256:74eee032e453aaa4994ebbb1eb6864ccd7cd7f487dd252e9f4d01a73401eee73"
 },
 "nbformat": 3,
 "nbformat_minor": 0,
 "worksheets": [
  {
   "cells": [
    {
     "cell_type": "markdown",
     "metadata": {},
     "source": [
      "# 0.B Obtenci\u00f3n de Claves"
     ]
    },
    {
     "cell_type": "markdown",
     "metadata": {},
     "source": [
      "Twitter permite a los desarrolladores acceder a una peque\u00f1a parte del flujo de tuits (_stream_) por medio de su _Application Programming Interface_ (API). Sin embargo, solo podemos acceder a trav\u00e9s de solicitudes autorizadas de su API. Lo cual significa que debemos registrar una aplicaci\u00f3n en Twitter, con la cual vamos a poder obtener las claves de acceso y contrase\u00f1as necesarias. Para configurar una aplicaci\u00f3n de Twitter necesitamos seguir los siguientes pasos."
     ]
    },
    {
     "cell_type": "markdown",
     "metadata": {},
     "source": [
      "## 0.B.1 Registrarse como usuario de Twitter"
     ]
    },
    {
     "cell_type": "markdown",
     "metadata": {},
     "source": [
      "Solo usuarios registrados de Twitter pueden crear apliaciones. El primer paso es crear una cuenta de Twitter y asociarle un n\u00famero telef\u00f3nico. Visita la p\u00e1gina de [Twitter](https://twitter.com/) y si no tienes una cuenta a\u00fan, crea una."
     ]
    },
    {
     "cell_type": "markdown",
     "metadata": {},
     "source": [
      "## 0.B.2 Registra tu aplicaci\u00f3n"
     ]
    },
    {
     "cell_type": "markdown",
     "metadata": {},
     "source": [
      "Para poder acceder a los datos de Twitter mediante programaci\u00f3n, es necesario que creemos una aplicaci\u00f3n que interact\u00fae con la API de Twitter. Para crear esta aplicaci\u00f3n, primero visita la p\u00e1gina [https://apps.twitter.com/](https://apps.twitter.com/), entra a tu cuenta de Twitter (si a\u00fan no lo est\u00e1s) y da click en el bot\u00f3n que dice \"Create a New App\":"
     ]
    },
    {
     "cell_type": "markdown",
     "metadata": {},
     "source": [
      "![](Imagenes/newapp.png)"
     ]
    },
    {
     "cell_type": "markdown",
     "metadata": {},
     "source": [
      "El siguiente paso, es llenar un conjunto de campos. Primero, debes darle un nombre a tu aplicaci\u00f3n, por ejemplo _nombre-scraper_. Segunda, da una breve descripci\u00f3n de tu aplicaci\u00f3n (puedes escribir lo que quieras). Tercero, da una direcci\u00f3n que brinde soporte a tu aplicaci\u00f3n (tambi\u00e9n puedes utilizar alguna p\u00e1ginas comod\u00edn). Finalmente, acepta el \"Developer Agreement\" y presiona \"Create your Twitter Application\"."
     ]
    },
    {
     "cell_type": "markdown",
     "metadata": {},
     "source": [
      "![](Imagenes/app2.png)"
     ]
    },
    {
     "cell_type": "markdown",
     "metadata": {},
     "source": [
      "Despu\u00e9s de crear la aplicaci\u00f3n, recibiras tu \"consumer key\" y \"consumer secret\". Estas contrase\u00f1as son la configuraci\u00f3n de tu aplicaci\u00f3n, las cuales deber\u00e1s mantener en secreto a toda costa. El siguiente paso, es ir a la pesta\u00f1a que se llama \"Keys and Access Tokens\" de tu aplicaci\u00f3n."
     ]
    },
    {
     "cell_type": "markdown",
     "metadata": {},
     "source": [
      "![](Imagenes/passwords.png)"
     ]
    },
    {
     "cell_type": "markdown",
     "metadata": {},
     "source": [
      "En la parte de abajo da click en donde dice \"Generate Access Token and Token Secret\". "
     ]
    },
    {
     "cell_type": "markdown",
     "metadata": {},
     "source": [
      "![](Imagenes/token.png)"
     ]
    },
    {
     "cell_type": "markdown",
     "metadata": {},
     "source": [
      "## 0.B.3 Clave Mashape"
     ]
    },
    {
     "cell_type": "markdown",
     "metadata": {},
     "source": [
      "Para utilizar el m\u00f3dulo `Botometer`, adiconalmente a las claves de acceso a Twitter se requiere obtener una clave de [`Mashape`](https://www.mashape.com/), la cual obtenemos de la siguiente manera:\n",
      " * Ingresamos a (https://market.mashape.com/) y creamos una cuenta (s\u00f3lo necesitamos proporcionar nuestro correo electr\u00f3nico, un nombre de usuario y una contrase\u00f1a).\n",
      " * Una vez registrados, a nuestro correo llegar\u00e1 una solicitud de activaci\u00f3n para nuestra cuenta en Mashape Market, la cual debemos aceptar.\n",
      " * Cuando iniciemos sesi\u00f3n en Mashape Market, en la parte superior de la p\u00e1gina aparecer\u00e1 una pesta\u00f1a con el nombre _Applications_, al dar click sobre ella se desplegar\u00e1 un Men\u00fa con una applicaci\u00f3n llamada `Default Application`. Necesitamos dar click sobre ella.\n",
      " ![default-app](./Imagenes/def-app.png)\n",
      "\n",
      "\n",
      " * En la nueva p\u00e1gina, damos click en _GET THE KEYS_\n",
      " \n",
      " ![exportar claves](./Imagenes/exportar.png)\n",
      " \n",
      " \n",
      " * Por \u00faltimo, en la nueva ventana, damos click en el bot\u00f3n _COPY_ para copiar toda esta secuencia de caracteres que constituir\u00e1n en c\u00f3digo el contenido de la variable `mashape_key` (clave mashape).\n",
      " \n",
      " ![clave mashape](./Imagenes/copy.png)"
     ]
    }
   ],
   "metadata": {}
  }
 ]
}