{
 "metadata": {
  "kernelspec": {
   "display_name": "Python 3",
   "language": "python",
   "name": "python3"
  },
  "language_info": {
   "codemirror_mode": {
    "name": "ipython",
    "version": 3
   },
   "file_extension": ".py",
   "mimetype": "text/x-python",
   "name": "python",
   "nbconvert_exporter": "python",
   "pygments_lexer": "ipython3",
   "version": "3.6.0"
  },
  "name": "",
  "signature": "sha256:cc383342a4773362479bcdb98dce18f8a8f0330748f2e9d0ba10e6bef800f7bb"
 },
 "nbformat": 3,
 "nbformat_minor": 0,
 "worksheets": [
  {
   "cells": [
    {
     "cell_type": "heading",
     "level": 1,
     "metadata": {},
     "source": [
      "3. Networkx"
     ]
    },
    {
     "cell_type": "markdown",
     "metadata": {},
     "source": [
      "## 3.1 Representaci\u00f3n con _gr\u00e1ficas_\n"
     ]
    },
    {
     "cell_type": "markdown",
     "metadata": {},
     "source": [
      "La estructura de una red social, as\u00ed como muchos fen\u00f3menos que involucren interacciones entre elementos o individuos, pueden representarse diagram\u00e1ticamente mediante una _gr\u00e1fica_. Llamamos gr\u00e1fica a una pareja de conjuntos tal que el primero de ellos es una lista de elementos, y el segundo conjunto es la relaci\u00f3n que nos dice qui\u00e9n interact\u00faa con qui\u00e9n. Por ejemplo, consideremos el conjunto $\\{$ Ana, Beto, Carlos, David $\\}$, y el conjunto que representa qui\u00e9nes se conocen entre s\u00ed:  $\\{$ (Ana,Beto), (David,Ana), (Beto,David) $\\}$. Esta pareja de conjuntos puede representarse mediante el siguiente diagrama:\n",
      "\n",
      "![Ejemplo de grafica](./Imagenes/figure_3.png)\n",
      "\n",
      "\n",
      "De forma an\u00e1loga puede generarse una gr\u00e1fica para representar aspectos que relacionen cuentas en Twitter: los nodos o puntos pueden representar usuarios y las aristas, si los usuarios se siguen m\u00fatuamente, si se han retuiteado, etc. \n",
      "\n",
      "En Python el m\u00f3dulo que puede emplearse para trabajar con gr\u00e1ficas es **networkx**, probemos que lo instalamos correctamente corriendo el siguiente c\u00f3digo:"
     ]
    },
    {
     "cell_type": "code",
     "collapsed": true,
     "input": [
      "import networkx as nx"
     ],
     "language": "python",
     "metadata": {},
     "outputs": []
    },
    {
     "cell_type": "markdown",
     "metadata": {},
     "source": [
      "La documentaci\u00f3n completa de este m\u00f3dulo la podemos consultar en la p\u00e1gina de soporte del m\u00f3dulo, directamente [aqu\u00ed](https://media.readthedocs.org/pdf/networkx/stable/networkx.pdf). Empecemos con un ejemplo sencillo usando una gr\u00e1fica peque\u00f1a para mayor claridad, pero f\u00e1cilmente adaptable para datos reales de Twitter, los cuales generalmente producen gr\u00e1fican con muchos v\u00e9rtices.\n",
      "\n",
      "Supongamos que tenemos 10 usuarios, llamemos a estos usuarios 1,2,3,...,10 (podemos pensar que este n\u00famero es el ID del usuario que identifica de forma \u00fanica a cada cuenta de twitter). Adem\u00e1s, supongamos que ya hemos evaluado a estos usuarios con _botometer_ y encontramos que los usuarios  $\\{ 1,4,6,8,9\\}$ son _bots_ y el resto son humanos. Adicionalmente, supongamos que ocurrieron los siguiente retweets:\n",
      "\n",
      "|    Usuario  | Retweet a  |\n",
      "|:-----------:|:----------:|\n",
      "|      10     | 1          |\n",
      "|      7      | 2          |\n",
      "|      4      | 3          |\n",
      "|      7      | 4          |\n",
      "|      9      | 5          |\n",
      "|      5      | 6          |\n",
      "|      9      | 7          |\n",
      "|      6      | 8          |\n",
      "|      5      | 9          |\n",
      "|      3      | 10         |\n",
      "\n",
      "Usemos _networkx_ para generar la gr\u00e1fica cuyos nodos son los usuarios y las aristas son los retweets.\n",
      "\n",
      " * Primero generemos una g\u00e1fica `G` sin vertices: "
     ]
    },
    {
     "cell_type": "code",
     "collapsed": true,
     "input": [
      "G=nx.Graph()"
     ],
     "language": "python",
     "metadata": {},
     "outputs": []
    },
    {
     "cell_type": "markdown",
     "metadata": {},
     "source": [
      " * Ahora crearemos una lista con los v\u00e9rtices de la gr\u00e1fica, los v\u00e9rtices podemos etiquetarlos con n\u00famero o cadenas de texto.  Agregaremos cada v\u00e9rtice mediante un ``for``"
     ]
    },
    {
     "cell_type": "code",
     "collapsed": true,
     "input": [
      "L=[1,2,3,4,5,6,7,8,9,10]\n",
      "for vertice in L:\n",
      "    G.add_node(vertice)"
     ],
     "language": "python",
     "metadata": {},
     "outputs": []
    },
    {
     "cell_type": "markdown",
     "metadata": {},
     "source": [
      " * Agreguemos las aristas de acuerdo a la tabla de arriba:"
     ]
    },
    {
     "cell_type": "code",
     "collapsed": true,
     "input": [
      "G.add_edge(1,10)\n",
      "G.add_edge(2,7)\n",
      "G.add_edge(3,4)\n",
      "G.add_edge(4,7)\n",
      "G.add_edge(5,9)\n",
      "G.add_edge(6,5)\n",
      "G.add_edge(7,9)\n",
      "G.add_edge(8,6)\n",
      "G.add_edge(9,5)\n",
      "G.add_edge(10,3)"
     ],
     "language": "python",
     "metadata": {},
     "outputs": []
    },
    {
     "cell_type": "markdown",
     "metadata": {},
     "source": [
      " * Visualicemos esta gr\u00e1fica utilizando el siguiente c\u00f3digo, deber\u00e1 aparecer una ventana mostrando la gr\u00e1fica."
     ]
    },
    {
     "cell_type": "code",
     "collapsed": false,
     "input": [
      "import matplotlib.pyplot as plt\n",
      "\n",
      "posiciones=nx.shell_layout(G)\n",
      "nx.draw_networkx_nodes(G,posiciones,nodelist=list(G.nodes()),alpha=0.5)\n",
      "nx.draw_networkx_edges(G,posiciones)\n",
      "plt.axis('off')\n",
      "plt.show()"
     ],
     "language": "python",
     "metadata": {},
     "outputs": []
    },
    {
     "cell_type": "markdown",
     "metadata": {},
     "source": [
      "Resultar\u00eda m\u00e1s \u00fatil si la gr\u00e1fica tambi\u00e9n nos mostrara en qu\u00e9 sentido ocurrieron los retweets, es decir, si pudieramos reemplazar las aristas por flechas cuyo origen indique el tweet original y apunten hacia el usuario que retwiteo. Llamamos a estas gr\u00e1ficas, _gr\u00e1ficas dirigidas_. Reescribamos el c\u00f3digo para agregar este cambio, y adicionalmente cambiaremos el color de los v\u00e9rtices a azul si son humanos o rojo si son bots."
     ]
    },
    {
     "cell_type": "code",
     "collapsed": false,
     "input": [
      "import networkx as nx\n",
      "import matplotlib.pyplot as plt\n",
      "\n",
      "G=nx.DiGraph()\n",
      "L=[1,2,3,4,5,6,7,8,9,10]\n",
      "for vertice in L:\n",
      "    G.add_node(vertice)\n",
      "\n",
      "G.add_edge(1,10)\n",
      "G.add_edge(2,7)\n",
      "G.add_edge(3,4)\n",
      "G.add_edge(4,7)\n",
      "G.add_edge(5,9)\n",
      "G.add_edge(6,5)\n",
      "G.add_edge(7,9)\n",
      "G.add_edge(8,6)\n",
      "G.add_edge(9,5)\n",
      "G.add_edge(10,3)\n",
      "\n",
      "posiciones=nx.shell_layout(G)\n",
      "bots=[1,4,6,8,9]\n",
      "for vertice in G.nodes():\n",
      "    if vertice in bots:\n",
      "        nx.draw_networkx_nodes(G,posiciones,nodelist=[vertice],alpha=0.5,node_color='r',node_size=800)\n",
      "    else:\n",
      "        nx.draw_networkx_nodes(G,posiciones,nodelist=[vertice],alpha=0.5,node_color='b',node_size=800)\n",
      "nx.draw_networkx_edges(G,posiciones,nodelist=list(G.edges()))\n",
      "\n",
      "etiquetas={}\n",
      "for vertice in G.nodes():\n",
      "    etiquetas[vertice]=str(vertice)\n",
      "    \n",
      "nx.draw_networkx_labels(G,posiciones,etiquetas,font_size=16)\n",
      "\n",
      "plt.axis('off')\n",
      "plt.show()"
     ],
     "language": "python",
     "metadata": {},
     "outputs": []
    },
    {
     "cell_type": "markdown",
     "metadata": {},
     "source": [
      "Observaremos una gr\u00e1fica como esta:\n",
      "\n",
      "![Grafica dirigida](./Imagenes/graph_2.png)\n",
      "\n",
      "Adem\u00e1s de la visualizaci\u00f3n, trabajar con gr\u00e1ficas permite hacer otros tipos de an\u00e1lisis. Por ejemplo, en la imagen anterior vemos un diferente n\u00famero de aristas en cada v\u00e9rtices, al n\u00famero de aristas en un v\u00e9rtice le llamanos **grado**; y a las aristasa las podemos clasificar como _incidentes_ (si la parte m\u00e1s remarcada de la arista est\u00e1 en el v\u00e9rtice) y _no incidentes_ (al contrario). El n\u00famero de aristas _incidentes_ y _no incidentes_ los podemos relacionar con la informaci\u00f3n reciben y que env\u00edan. Desde python podemos obtener toda esta informaci\u00f3n utilizando:"
     ]
    },
    {
     "cell_type": "code",
     "collapsed": false,
     "input": [
      "# Para el vertice que etiquetamos como 7\n",
      "print(G.degree(7)) #grado del vertice 7\n",
      "print(G.in_degree(7)) #numero de aristas incidentes en el vertice 7\n",
      "print(G.out_degree(7)) #numero de aristas no incidentes en el vertice 7\n",
      "\n",
      "salientes=G.successors(7)\n",
      "print(salientes)\n",
      "\n",
      "entrantes=G.predecessors(7)\n",
      "print(entrantes)"
     ],
     "language": "python",
     "metadata": {},
     "outputs": []
    },
    {
     "cell_type": "markdown",
     "metadata": {},
     "source": [
      "Independientemente de qu\u00e9 aspecto de Twitter estemos representando con gr\u00e1ficas, adem\u00e1s del _grado_ de los v\u00e9rtices, la **centralidad** es un concepto importante. Llamamos _centralidad_ a una medida que cuantifica la importancia que tiene un v\u00e9rtice en una gr\u00e1fica de acuerdo con el lugar que ocupe en \u00e9sta, en otras palabras, a cada v\u00e9rtice asignamos un n\u00famero relacionado con la posici\u00f3n que ocupa en la gr\u00e1fica. Existen distintas maneras de asignar un n\u00famero con estas caracter\u00edsticas, y por supuesto el _grado_ es una alternativa, as\u00ed como tambi\u00e9n lo es asignar a cada v\u00e9rtice el promedio de las distancias al resto de los v\u00e9rtices (**centralidad de cercan\u00eda**). Otra alternativa com\u00fanmente utilizada es la **centralidad de vector propio**, intuitivamente mide la conectividad de un v\u00e9rtice con los v\u00e9rtices mejor conectados, por lo cual podemos utilizarla para identificar _influencers_ (usuarios con cierta influencia en la red). A trav\u00e9s de _networkx_ podemos obtener estas medidas."
     ]
    },
    {
     "cell_type": "code",
     "collapsed": false,
     "input": [
      "#Centralidad de vector propio\n",
      "print(nx.eigenvector_centrality_numpy(G))"
     ],
     "language": "python",
     "metadata": {},
     "outputs": []
    },
    {
     "cell_type": "markdown",
     "metadata": {},
     "source": [
      "El c\u00f3digo anterior nos devuelve una estructura que en Python se conoce como _diccionario_. Podemos pensarlo como si en un diccionario cambiaramos las palabras por los v\u00e9rtices de la gr\u00e1fica, y las definiciones por el valor que les asignamos (en el ejemplo de arriba, la centralidad). En lugar de desplegar todo el diccionario, podemos deplegar s\u00f3lo el valor asociado a un v\u00e9rtice de la siguiente manera:"
     ]
    },
    {
     "cell_type": "code",
     "collapsed": false,
     "input": [
      "dic=nx.eigenvector_centrality_numpy(G)\n",
      "print(dic[1])  #imprime el valor asignado al vertice 1"
     ],
     "language": "python",
     "metadata": {},
     "outputs": []
    },
    {
     "cell_type": "markdown",
     "metadata": {},
     "source": [
      "As\u00ed podemos saber el valor asignado a cada v\u00e9rtice de acuerdo al diccionario, tambi\u00e9n podemos saber cu\u00e1les son todas las \"palabras\" del diccionario, es decir, cu\u00e1les son las etiquetas con las que marcamos los v\u00e9rtices."
     ]
    },
    {
     "cell_type": "code",
     "collapsed": false,
     "input": [
      "print(dic.keys())"
     ],
     "language": "python",
     "metadata": {},
     "outputs": []
    },
    {
     "cell_type": "markdown",
     "metadata": {},
     "source": [
      "El siguiente c\u00f3digo compara el valor de cada v\u00e9rtice de acuerdo al diccionario, y devuelve una lista con aquellos v\u00e9rtices que contengan el valor m\u00e1ximo."
     ]
    },
    {
     "cell_type": "code",
     "collapsed": false,
     "input": [
      "dic=nx.eigenvector_centrality_numpy(G)\n",
      "\n",
      "V_con_valor_maximo=[]\n",
      "#Encontramos el valor maximo en el diccionario y lo guardamos en una variable M\n",
      "M=max([dic[vertice] for vertice in dic.keys()])\n",
      "\n",
      "for vertice in dic.keys():\n",
      "    if dic[vertice]==M:\n",
      "        V_con_valor_maximo.append(vertice)\n",
      "    \n",
      "print(V_con_valor_maximo)"
     ],
     "language": "python",
     "metadata": {},
     "outputs": []
    },
    {
     "cell_type": "markdown",
     "metadata": {},
     "source": [
      "Al revisar los valores en el dicionario, notamos que no hay una diferencia sifgnificativa entre el valor del vertice 9 y el 5, por lo que podr\u00edamos mejorar el c\u00f3digo anterior para que al comparar con el valor m\u00e1ximo considere una tolerancia."
     ]
    },
    {
     "cell_type": "code",
     "collapsed": false,
     "input": [
      "dic=nx.eigenvector_centrality_numpy(G)\n",
      "\n",
      "V_con_valor_maximo=[]\n",
      "\n",
      "M=max([dic[vertice] for vertice in dic.keys()])\n",
      "\n",
      "tolerancia=0.001\n",
      "\n",
      "for vertice in dic.keys():\n",
      "    if abs(dic[vertice]-M)<=tolerancia:\n",
      "        V_con_valor_maximo.append(vertice)\n",
      "    \n",
      "print(V_con_valor_maximo)"
     ],
     "language": "python",
     "metadata": {},
     "outputs": []
    },
    {
     "cell_type": "markdown",
     "metadata": {},
     "source": [
      "Lo mismo puede hacerse utilizando la **centralidad de cercan\u00eda**, la cual se calcula de la siguiente manera:"
     ]
    },
    {
     "cell_type": "code",
     "collapsed": false,
     "input": [
      "print(nx.closeness_centrality(G))"
     ],
     "language": "python",
     "metadata": {},
     "outputs": []
    },
    {
     "cell_type": "markdown",
     "metadata": {},
     "source": [
      "**Ejercicio:** Encuentra los v\u00e9rtices con mayor centralidad de cercan\u00eda adaptando el c\u00f3digo que utiliza centralidad de vector propio."
     ]
    },
    {
     "cell_type": "code",
     "collapsed": false,
     "input": [
      "# Inserta aqui el codigo"
     ],
     "language": "python",
     "metadata": {},
     "outputs": []
    },
    {
     "cell_type": "markdown",
     "metadata": {},
     "source": [
      "Otro tipo de centralidad es la __centralidad de laplaciano__, la cual para gr\u00e1ficas no dirigidas, asigna a cada v\u00e9rtice $v$ el valor $C_{L}$ dado por\n",
      "\n",
      "$$C_{L}(v)=grado(v)^{2}+grado(v)+2\\sum_{w} grado(w)$$\n",
      "\n",
      "donde $w$ son los v\u00e9rtices que compaten una arista con $v$. La caracter\u00edstica m\u00e1s sobresaliente de esta centralidad es que depende s\u00f3lo del grado de los v\u00e9rtices, sin embargo tambien considera la conectividad (grado) de los v\u00e9rtices vecinos, por lo cual f\u00e1cil de calcular. Con el siguiente c\u00f3digo podemos calcular la centralidad de laplaciano para la gr\u00e1fica G (no ririgida) que ya hemos generado:"
     ]
    },
    {
     "cell_type": "code",
     "collapsed": false,
     "input": [
      "G=nx.Graph()\n",
      "L=[1,2,3,4,5,6,7,8,9,10]\n",
      "for vertice in L:\n",
      "    G.add_node(vertice)\n",
      "\n",
      "G.add_edge(1,10)\n",
      "G.add_edge(2,7)\n",
      "G.add_edge(3,4)\n",
      "G.add_edge(4,7)\n",
      "G.add_edge(5,9)\n",
      "G.add_edge(6,5)\n",
      "G.add_edge(7,9)\n",
      "G.add_edge(8,6)\n",
      "G.add_edge(9,5)\n",
      "G.add_edge(10,3)\n",
      "\n",
      "Lap_C={}\n",
      "for v in G.nodes():\n",
      "    vecinos=G.neighbors(v)\n",
      "    grad_vecinos=[G.degree(vecino) for vecino in vecinos]\n",
      "    Lap_C[v]=G.degree(v)**2+G.degree(v)+2*sum(grad_vecinos)\n",
      "\n",
      "print(Lap_C)"
     ],
     "language": "python",
     "metadata": {},
     "outputs": []
    },
    {
     "cell_type": "markdown",
     "metadata": {},
     "source": [
      "Ahora aplicaremos estos conceptos en una red de Twitter, esto lo haremos creando una gr\u00e1fica cuyos nodos o v\u00e9rtice sean los seguidores y seguidos de una cuenta. Comenzaremos por determinar la lista de seguidores y seguidos utilizando el c\u00f3digo del _notebook 2_."
     ]
    },
    {
     "cell_type": "code",
     "collapsed": false,
     "input": [
      "import tweepy\n",
      "\n",
      "consumer_key='XXXXXXXXXXXXXXXXXXXXXXXXXX'\n",
      "consumer_secret= 'XXXXXXXXXXXXXXXXXXXXXXX'\n",
      "access_token = 'XXXXXXXXXXXXXXXXXXXXXXXXXX'\n",
      "access_secret = 'XXXXXXXXXXXXXXXXXXXXXXXXX'\n",
      "\n",
      "\n",
      "authentication= tweepy.OAuthHandler(consumer_key, consumer_secret)\n",
      "authentication.set_access_token(access_token, access_secret)\n",
      "\n",
      "api = tweepy.API(authentication)\n",
      "\n",
      "cuenta= \" \" #Escribe aqui una cuenta\n",
      "\n",
      "# Determinemos el numero exacto de seguidores y seguidos\n",
      "usuario= api.get_user(screen_name=cuenta)\n",
      "user_id=usuario.id\n",
      "N_seguidores=usuario.followers_count\n",
      "N_amigos=usuario.friends_count\n",
      "print('numero de seguidores: ',N_seguidores)\n",
      "print('numero de amigos: ',N_amigos)\n",
      "print('user_id: ',user_id)\n",
      "\n",
      "idx_seg=-1 \n",
      "\n",
      "seguidores=[] #Aqui guardaremos todos los listados\n",
      "amigos=[]\n",
      "# Obtengamos los listados parciales de seguidores\n",
      "while idx_seg!=0:\n",
      "    S=api.followers_ids(cuenta,count=5000,cursor=idx_seg)\n",
      "    for elemento in S[0]:\n",
      "        seguidores.append(elemento)\n",
      "    idx_seg=S[1][1]\n",
      "# Obtengamos los listados parciales de seguidos (amigos)\n",
      "idx_am=-1 \n",
      "while idx_am!=0:\n",
      "    S=api.friends_ids(cuenta,count=5000,cursor=idx_am)\n",
      "    for elemento in S[0]:\n",
      "        amigos.append(elemento)\n",
      "    idx_am=S[1][1]"
     ],
     "language": "python",
     "metadata": {},
     "outputs": []
    },
    {
     "cell_type": "markdown",
     "metadata": {},
     "source": [
      "Ahora generaremos la gr\u00e1fica con esta informaci\u00f3n"
     ]
    },
    {
     "cell_type": "code",
     "collapsed": false,
     "input": [
      "import networkx as nx\n",
      "import matplotlib.pyplot as plt\n",
      "\n",
      "\n",
      "G=nx.Graph()\n",
      "\n",
      "G.add_node(user_id)\n",
      "\n",
      "color_dic={}\n",
      "tam_dic={}\n",
      "\n",
      "for vertice in seguidores+amigos:\n",
      "    G.add_node(vertice)\n",
      "    G.add_edge(vertice,user_id)\n",
      "    if vertice in seguidores:\n",
      "        color_dic[vertice]='orange'\n",
      "        tam_dic[vertice]=6\n",
      "    if vertice in amigos:\n",
      "        color_dic[vertice]='blue'\n",
      "        tam_dic[vertice]=6\n",
      "    if (vertice in seguidores) and (vertice in amigos):\n",
      "        color_dic[vertice]='green'\n",
      "        tam_dic[vertice]=6\n",
      "\n",
      "color_dic[user_id]='red'\n",
      "tam_dic[user_id]=20\n",
      "\n",
      "posiciones=nx.random_layout(G)\n",
      "\n",
      "for vertice in G.nodes():\n",
      "    pos=posiciones[vertice]-posiciones[user_id]\n",
      "    k1=400\n",
      "    k2=500\n",
      "    if (vertice in seguidores) and (vertice in amigos):\n",
      "        posiciones[vertice]=(-abs(pos[0]*k1),abs(pos[1])*k1)\n",
      "    else:\n",
      "        if vertice in seguidores:\n",
      "             posiciones[vertice]=(-abs(pos[0]*k2),-abs(pos[1])*k2)\n",
      "        if vertice in amigos:\n",
      "            posiciones[vertice]=(abs(pos[0])*k2,abs(pos[1])*k2)\n",
      "\n",
      "\n",
      "\n",
      "for vertice in G.nodes():\n",
      "    nx.draw_networkx_nodes(G,posiciones,nodelist=[vertice],alpha=1,node_color=color_dic[vertice],node_size=tam_dic[vertice])\n",
      "\n",
      "nx.draw_networkx_edges(G, posiciones, alpha=0.07)\n",
      "\n",
      "\n",
      "\n",
      "plt.axis('off')\n",
      "plt.show()"
     ],
     "language": "python",
     "metadata": {},
     "outputs": []
    },
    {
     "cell_type": "markdown",
     "metadata": {},
     "source": [
      "Tambi\u00e9n podemos agregar nodos que representen a los seguidores de nuestros seguidores, pero s\u00f3lo lo haremos para dos de nuestros seguidores para evitar sobrepasar el n\u00famero de llamadas. Primero obtendremos los seguidores de nuestros (dos primeros) seguidores:"
     ]
    },
    {
     "cell_type": "code",
     "collapsed": false,
     "input": [
      "followers_de_seguidores={}\n",
      "for cuenta in seguidores[:2]:\n",
      "    L=[]\n",
      "    idx=-1\n",
      "    while idx!=0:\n",
      "        S=api.followers_ids(cuenta,count=5000,cursor=idx)\n",
      "        for elemento in S[0]:\n",
      "            L.append(elemento)\n",
      "            idx=S[1][1]\n",
      "    followers_de_seguidores[cuenta]=L"
     ],
     "language": "python",
     "metadata": {},
     "outputs": []
    },
    {
     "cell_type": "markdown",
     "metadata": {},
     "source": [
      "Ahora generamos toda gr\u00e1fica"
     ]
    },
    {
     "cell_type": "code",
     "collapsed": false,
     "input": [
      "import networkx as nx\n",
      "import matplotlib.pyplot as plt\n",
      "\n",
      "G=nx.Graph()\n",
      "\n",
      "G.add_node(user_id)\n",
      "\n",
      "color_dic={}\n",
      "tam_dic={}\n",
      "\n",
      "for vertice in seguidores+amigos:\n",
      "    G.add_node(vertice)\n",
      "    G.add_edge(vertice,user_id)\n",
      "\n",
      "for cuenta in followers_de_seguidores.keys():\n",
      "    for vertice in followers_de_seguidores[cuenta]:\n",
      "        G.add_node(vertice)\n",
      "        G.add_edge(vertice,cuenta)\n",
      "\n",
      "\n",
      "\n",
      "tam_dic[user_id]=40\n",
      "\n",
      "\n",
      "for vertice in G.nodes():\n",
      "    if vertice in followers_de_seguidores.keys():\n",
      "        color_dic[vertice]='orange'\n",
      "        tam_dic[vertice]=40\n",
      "    elif vertice==user_id:\n",
      "        color_dic[vertice]='red'  \n",
      "        tam_dic[vertice]=40\n",
      "    else:\n",
      "        color_dic[vertice]='cyan' \n",
      "        tam_dic[vertice]=6\n",
      "        \n",
      "posiciones=nx.spring_layout(G)\n",
      "\n",
      "\n",
      "for vertice in G.nodes():\n",
      "    nx.draw_networkx_nodes(G,posiciones,nodelist=[vertice],alpha=1,node_color=color_dic[vertice],node_size=tam_dic[vertice])\n",
      "\n",
      "nx.draw_networkx_edges(G, posiciones, alpha=0.1)\n",
      "\n",
      "plt.axis('off')\n",
      "plt.show()"
     ],
     "language": "python",
     "metadata": {},
     "outputs": []
    },
    {
     "cell_type": "markdown",
     "metadata": {},
     "source": [
      "Finalmente para esta gr\u00e1fica podemos encontrar los v\u00e9rtices con mayor centralidad de vector propio:"
     ]
    },
    {
     "cell_type": "code",
     "collapsed": false,
     "input": [
      "# Centralidad de vector propio:\n",
      "dic=nx.eigenvector_centrality_numpy(G)\n",
      "\n",
      "V_con_valor_maximo=[]\n",
      "\n",
      "M=max([dic[vertice] for vertice in dic.keys()])\n",
      "\n",
      "tolerancia=0.001\n",
      "\n",
      "for vertice in dic.keys():\n",
      "    if abs(dic[vertice]-M)<=tolerancia:\n",
      "        V_con_valor_maximo.append(vertice)\n",
      "    \n",
      "print(V_con_valor_maximo)"
     ],
     "language": "python",
     "metadata": {},
     "outputs": []
    },
    {
     "cell_type": "markdown",
     "metadata": {},
     "source": [
      "Esta lista contiene el n\u00famero id de usuarios en nuestra red que tienen la mayor centralidad de vector propio, para determinar de qi\u00e9nes se trata podemos llamar a la API:"
     ]
    },
    {
     "cell_type": "code",
     "collapsed": false,
     "input": [
      "import tweepy\n",
      "\n",
      "consumer_key='XXXXXXXXXXXXXXXXXXXXXXXXXX'\n",
      "consumer_secret= 'XXXXXXXXXXXXXXXXXXXXXXX'\n",
      "access_token = 'XXXXXXXXXXXXXXXXXXXXXXXXXX'\n",
      "access_secret = 'XXXXXXXXXXXXXXXXXXXXXXXXX'\n",
      "\n",
      "authentication= tweepy.OAuthHandler(consumer_key, consumer_secret)\n",
      "authentication.set_access_token(access_token, access_secret)\n",
      "\n",
      "api = tweepy.API(authentication)\n",
      "\n",
      "for id in V_con_valor_maximo:\n",
      "    usuario=api.get_user(id)\n",
      "    print(usuario.screen_name)"
     ],
     "language": "python",
     "metadata": {},
     "outputs": []
    },
    {
     "cell_type": "markdown",
     "metadata": {},
     "source": [
      "__Ejercicio__ Encontrar los nodos en la red con mayor centralidad de cercan\u00eda.\n",
      "\n",
      "En la pr\u00e1ctica, cuando se proponen modelos para estudiar el comportamiento de individuos en una red, puede ser compicado obtener (a partir de datos reales) una red que cumpla las caracter\u00edsticas que deseamos estudiar. En caso de que no tengamos el tipo de  red que nos interese, podemos generar gr\u00e1ficas aleatorias que cumplan con algunas de esas propiedades, esto tambi\u00e9n lo podemos hacer con el m\u00f3dulo __networkx__. \n",
      "\n",
      "Uno de los modelos m\u00e1s cl\u00e1sicos para generar una red aleatoria se debe a **Erd\u00f6s y R\u00e9nyi** y consiste en tomar _N_ v\u00e9rtices y asumir que la probabilidad de que dos v\u00e9rtices esten unidos por una arista es p>0. En _networkx_ podemos generar una gr\u00e1fica de Erd\u00f6s-R\u00e9nyi con la instrucci\u00f3n ``nx.gnm_random_graph(v,e)``, nota que requiere especificar el n\u00famero de v\u00e9rtices ``v`` y el n\u00famero de aristas ``e``."
     ]
    },
    {
     "cell_type": "code",
     "collapsed": false,
     "input": [
      "import networkx as nx\n",
      "import matplotlib.pyplot as plt\n",
      "\n",
      "v=20 \n",
      "e=10 \n",
      "\n",
      "G=nx.gnm_random_graph(v,e)\n",
      "\n",
      "nx.draw_circular(G,node_size = 50)\n",
      "plt.axis('off')\n",
      "plt.show()"
     ],
     "language": "python",
     "metadata": {},
     "outputs": []
    },
    {
     "cell_type": "markdown",
     "metadata": {},
     "source": [
      "**Ejercicio:** Obten y compara las gr\u00e1ficas que se obtienen utilizando el modelo de Erd\u00f6s-R\u00e9nyi considerando un n\u00famero fijo de vertices ``v=20`` y y distintos dalores de ``e``. Sugerencia: considera ``\"e\"`` igual a ``0, 5, 30, 95`` y ``190``.\n",
      "\n",
      "Para este modelo, la probabilidad $P(k)$ de que un v\u00e9rtice tenga grado $k$ se calcula como\n",
      "\n",
      "$P(k)=\\frac{\\# \\mbox{ v\u00e9rtices con grado } k}{\\# \\mbox{ aristas}}$"
     ]
    },
    {
     "cell_type": "markdown",
     "metadata": {},
     "source": [
      "Otro modelo importante es el de **Barab\u00e1si-Albert** en el cual la probabilidad de conectar un v\u00e9rtice con los anteriores no es uniforme: En el modelo de Erd\u00f6s_R\u00e9nyi tenemos la misma probabilidad de conectar cualquier par de v\u00e9rtices, sin embargo \u00e9ste puede no ser un modelo completamente realista, ya que en una red social es m\u00e1s frecuente que la interacci\u00f3n entre usuarios sea preferenciada hacia los usuarios mejor conectados.\n",
      "\n",
      "![Grafica Barabasi-Albert](./Imagenes/figure_BA2.png)"
     ]
    },
    {
     "cell_type": "code",
     "collapsed": false,
     "input": [
      "import networkx as nx\n",
      "import matplotlib.pyplot as plt\n",
      "\n",
      "v=7 # Numero de vertices\n",
      "e=1 # Numero de aristas para unir a nodos existentes\n",
      "\n",
      "G=nx.barabasi_albert_graph(v,e)\n",
      "\n",
      "nx.draw_spring(G,node_size = 50)\n",
      "plt.axis('off')\n",
      "plt.show()"
     ],
     "language": "python",
     "metadata": {},
     "outputs": []
    },
    {
     "cell_type": "markdown",
     "metadata": {},
     "source": [
      "Para una descripci\u00f3n m\u00e1s detallada, podemos acudir a _Emergence of Scaling in Random Networks_, Albert-L\u00e1szl\u00f3 Barab\u00e1si & R\u00e9ka Albert, Science  15 Oct 1999, Vol. 286.\n",
      "\n",
      "Las siguientes im\u00e1genes son un ejemplo de un an\u00e1lisis similar para tweets descargados siguiendo el _hashtag_ `#Tanhuato` durante tres d\u00edas.\n",
      "\n",
      "##### Grafica de _humanos_ (azul) retweeteando _bots_ (rojo)\n",
      "![Grafica de Humanos (azul) retweeteando Bots (rojo)](./Imagenes/hum_retweeting_bot_22.png)\n",
      "\n",
      "##### Grafica de todos los retweets\n",
      "![Grafica de todos los retweets](./Imagenes/todos_retweets_22.png)\n",
      "***Nota***: Cuando trabajamos con muchos datos de Twiter es com\u00fan que estas gr\u00e1ficas encimen los v\u00e9rtices y sean poco claras; esta \u00faltima gr\u00e1fica se obtuvo modificando las coordenadas de los v\u00e9rtices que corresponden a _bots_. Las coordenadas de cada v\u00e9rtice `networkx` las calcula al llamar la funci\u00f3n `nx.shell_layout(G)`, y las almacena en un diccionario. Las valores en las coordenadas de los v\u00e9rtices que corresponden a los bots se reemplazaron por valores negativos."
     ]
    },
    {
     "cell_type": "code",
     "collapsed": false,
     "input": [],
     "language": "python",
     "metadata": {},
     "outputs": []
    }
   ],
   "metadata": {}
  }
 ]
}
